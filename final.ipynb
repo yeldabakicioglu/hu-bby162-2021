{
  "nbformat": 4,
  "nbformat_minor": 0,
  "metadata": {
    "colab": {
      "name": "final.ipynb",
      "provenance": [],
      "mount_file_id": "1Qw9CqJsCy8VSbXAYiC9eMUS_vIGeylI0",
      "authorship_tag": "ABX9TyO9ztm2xc2UqIi+UpQk7Fei",
      "include_colab_link": true
    },
    "kernelspec": {
      "name": "python3",
      "display_name": "Python 3"
    },
    "language_info": {
      "name": "python"
    }
  },
  "cells": [
    {
      "cell_type": "markdown",
      "metadata": {
        "id": "view-in-github",
        "colab_type": "text"
      },
      "source": [
        "<a href=\"https://colab.research.google.com/github/yeldabakicioglu/hu-bby162-2021/blob/main/final.ipynb\" target=\"_parent\"><img src=\"https://colab.research.google.com/assets/colab-badge.svg\" alt=\"Open In Colab\"/></a>"
      ]
    },
    {
      "cell_type": "code",
      "metadata": {
        "colab": {
          "base_uri": "https://localhost:8080/"
        },
        "id": "Voe7IcEu3Awa",
        "outputId": "384505b4-64e7-479a-82ca-d16ffbb4abd3"
      },
      "source": [
        "dosya =  \"/content/drive/MyDrive/HU-BBY162-2021/final.txt\"\n",
        "def eserListesi():\n",
        "  dosya =  \"/content/drive/MyDrive/HU-BBY162-2021/final.txt\"\n",
        "  f = open(dosya, \"r\") \n",
        "\n",
        "  for line in f.readlines():\n",
        "      print(line)\n",
        "\n",
        "  f.close()\n",
        "\n",
        "\n",
        "\n",
        "def eserKaydet():\n",
        "  ad = input(\" Eser adı : \")\n",
        "  yazar = input(\" Yazar adı : \")\n",
        "  yayın = input(\" Yayınevi : \")\n",
        "  basım = input(\" Basım tarihi : \")\n",
        "  Isbn = input(\" ISBN numarası : \")\n",
        "\n",
        "  dosya = \"/content/drive/MyDrive/HU-BBY162-2021/final.txt\"\n",
        "  f = open(dosya, 'a') \n",
        "  f.write(ad+ \",\" +yazar+ \".\" +yayın+ \",\" +basım+ \",\" +Isbn+ \"\\n\")\n",
        "  f.close()\n",
        "\n",
        "  \n",
        "\n",
        "def menu():\n",
        "  print(\" *** Kütüphane Bilgi Sistemi ***\")\n",
        "  while True:\n",
        "    print(\" 1- çıkış yapınız.\")\n",
        "    print(\" 2- Eseri listele\")\n",
        "    print(\" 3- Eserleri kaydet\")\n",
        "    islem = input(\" Yapmak istediğiniz işlemi seçiniz (1/3): \")\n",
        "    if islem == \"1\":\n",
        "      print(\" Çıkış yapıldı\")\n",
        "      break\n",
        "    elif islem == \"2\":\n",
        "      eserListesi()\n",
        "    elif islem == \"3\":\n",
        "      eserKaydet()\n",
        "      \n",
        "menu()\n"
      ],
      "execution_count": 4,
      "outputs": [
        {
          "output_type": "stream",
          "text": [
            " *** Kütüphane Bilgi Sistemi ***\n",
            " 1- çıkış yapınız.\n",
            " 2- Eseri listele\n",
            " 3- Eserleri kaydet\n",
            " Yapmak istediğiniz işlemi seçiniz (1/3): 2\n",
            "Bin Dokuz Yüz Seksen Dört, George Orwell, Can Yayınevi, 2014, 9789750718533\n",
            "\n",
            "Simyacı, Paulo Coelho, Can Yayınevi, 2016, 9789750726439\n",
            "\n",
            "Pembe İncili Kaftan, Ömer Seyfettin, Ataç Yayınevi, 2018, 9789756205778\n",
            "\n",
            "Kürk Mantolu Madonna, Sabahattin Ali, YKY, 2017, 9789753038027\n",
            "\n",
            "Dokuzuncu Hariciye Koğuşu, Peyami Safa, Ötüken Yayınevi, 2018, 9789754370485\n",
            " 1- çıkış yapınız.\n",
            " 2- Eseri listele\n",
            " 3- Eserleri kaydet\n",
            " Yapmak istediğiniz işlemi seçiniz (1/3): 1\n",
            " Çıkış yapıldı\n"
          ],
          "name": "stdout"
        }
      ]
    }
  ]
}