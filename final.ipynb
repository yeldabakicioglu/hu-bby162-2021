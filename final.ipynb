{
  "nbformat": 4,
  "nbformat_minor": 0,
  "metadata": {
    "colab": {
      "name": "final.ipynb",
      "provenance": [],
      "mount_file_id": "1seMV06XxBoH0zpPeWgJk7FM8Tu0Tdhtx",
      "authorship_tag": "ABX9TyMK7uV4sGH8asR67SK4IIzr",
      "include_colab_link": true
    },
    "kernelspec": {
      "name": "python3",
      "display_name": "Python 3"
    },
    "language_info": {
      "name": "python"
    }
  },
  "cells": [
    {
      "cell_type": "markdown",
      "metadata": {
        "id": "view-in-github",
        "colab_type": "text"
      },
      "source": [
        "<a href=\"https://colab.research.google.com/github/yeldabakicioglu/hu-bby162-2021/blob/main/final.ipynb\" target=\"_parent\"><img src=\"https://colab.research.google.com/assets/colab-badge.svg\" alt=\"Open In Colab\"/></a>"
      ]
    },
    {
      "cell_type": "code",
      "metadata": {
        "id": "vnrYKfFUOOu9"
      },
      "source": [
        "#Kütüphane Otomasyonu\n",
        "#Veri tabanı: /content/drive/MyDrive/HU-BBY162-2021/final.txt\n",
        "\n",
        "dosya = \"/content/drive/MyDrive/HU-BBY162-2021/final.txt\"\n",
        "f = open(dosya,\"a\")\n",
        "\n",
        "BirinciBilgi = input(\"Eser adı:\")\n",
        "İkinciBilgi = input(\"Yazar adı:\")\n",
        "ÜçüncüBilgi = input(\"Yayınevi:\")\n",
        "DördüncüBilgi = input(\"Basım tarihi:\")\n",
        "BeşinciBilgi = input(\"ISBN:\")\n",
        "\n",
        "\n",
        "f.write(BirinciBilgi+ \"-\" + İkinciBilgi+ \"-\" + ÜçüncüBilgi+ \"-\" + DördüncüBilgi+ \"-\" + BeşinciBilgi+ \"-\" + \"\\n\")\n",
        "\n",
        "f.close()\n",
        "\n",
        "f = open(dosya, \"r\")\n",
        "for line in f.readlines():\n",
        "    print(line)\n",
        "f.close()\n",
        "\n",
        "def menu():\n",
        "  print(\"Katoloğa Hoşgeldiniz\")\n",
        "  print(\"İşlem seçiniz: 1)Kayıt Listele \\ 2)Yeni Eser Kaydet\")\n",
        "  seçim = input(\"Seçiminizi nümerik olarak girin:\")\n"
      ],
      "execution_count": null,
      "outputs": []
    },
    {
      "cell_type": "code",
      "metadata": {
        "id": "hR0HZqwpTrAY"
      },
      "source": [
        ""
      ],
      "execution_count": null,
      "outputs": []
    }
  ]
}