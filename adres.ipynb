{
  "nbformat": 4,
  "nbformat_minor": 0,
  "metadata": {
    "colab": {
      "name": "adres.ipynb",
      "provenance": [],
      "mount_file_id": "1HPH0gcCfodL2Plfizk9NMY3XFti3pRtT",
      "authorship_tag": "ABX9TyM2Ewif4mBPZcVGBQj7hlgd",
      "include_colab_link": true
    },
    "kernelspec": {
      "name": "python3",
      "display_name": "Python 3"
    },
    "language_info": {
      "name": "python"
    }
  },
  "cells": [
    {
      "cell_type": "markdown",
      "metadata": {
        "id": "view-in-github",
        "colab_type": "text"
      },
      "source": [
        "<a href=\"https://colab.research.google.com/github/yeldabakicioglu/hu-bby162-2021/blob/main/adres.ipynb\" target=\"_parent\"><img src=\"https://colab.research.google.com/assets/colab-badge.svg\" alt=\"Open In Colab\"/></a>"
      ]
    },
    {
      "cell_type": "code",
      "metadata": {
        "colab": {
          "base_uri": "https://localhost:8080/"
        },
        "id": "K5YPbWQTDt7k",
        "outputId": "d1a514e7-7754-4266-af4e-84c5afebdcba"
      },
      "source": [
        "adres = \"/content/drive/MyDrive/HU-BBY162-2021/adres.txt\"\n",
        "\n",
        "f = open(adres, \"a\")\n",
        "\n",
        "BirinciBilgi = input(\"Ad: \")\n",
        "İkinciBilgi = input(\"Soyadı: \")\n",
        "ÜçüncüBilgi = input(\"e-Posta: \")\n",
        "\n",
        "\n",
        "f.write(BirinciBilgi+ \" \" + İkinciBilgi+ \" \" + ÜçüncüBilgi+ \" \" + \"\\n\")\n",
        "\n",
        "f.close()\n",
        "\n",
        "f = open(adres, \"r\")\n",
        "for line in f.readlines():\n",
        "    print(line)\n",
        "f.close()\n"
      ],
      "execution_count": 4,
      "outputs": [
        {
          "output_type": "stream",
          "text": [
            "Ad: yelda\n",
            "Soyadı: bakıcıoglu\n",
            "e-Posta: yeldabakicioglu@gmail.com\n",
            "Yelda bakıcıoglu\n",
            "\n",
            "Yeldabakicioglu@gmail.comyelda bakıcıoglu yeldabakicioglu@gmail.com \n",
            "\n"
          ],
          "name": "stdout"
        }
      ]
    }
  ]
}